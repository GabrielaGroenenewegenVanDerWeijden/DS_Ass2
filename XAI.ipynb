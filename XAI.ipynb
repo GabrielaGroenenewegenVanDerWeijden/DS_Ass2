{
 "cells": [
  {
   "cell_type": "markdown",
   "metadata": {},
   "source": [
    "## Imports"
   ]
  },
  {
   "cell_type": "code",
   "execution_count": 11,
   "metadata": {},
   "outputs": [],
   "source": [
    "import numpy as np\n",
    "import cv2\n",
    "import matplotlib.pyplot as plt\n",
    "import tensorflow as tf\n",
    "from sklearn.metrics import classification_report, confusion_matrix, ConfusionMatrixDisplay\n",
    "import pandas as pd\n",
    "import seaborn as sns\n",
    "import keras\n",
    "from keras.layers import Conv2D, Input\n",
    "from keras.models import Model, Sequential\n",
    "from keras.applications.xception import preprocess_input, decode_predictions\n",
    "# from keras.models import load_model\n",
    "from ReadDataCG import train as trainc, test as testc, val as valc\n",
    "from  ReadDataLocal import train as trainl, test as testl, val as vall"
   ]
  },
  {
   "cell_type": "markdown",
   "metadata": {},
   "source": [
    "### Getting the data and model"
   ]
  },
  {
   "cell_type": "code",
   "execution_count": 12,
   "metadata": {},
   "outputs": [],
   "source": [
    "train = trainl\n",
    "val = vall\n",
    "test = testl"
   ]
  },
  {
   "cell_type": "markdown",
   "metadata": {},
   "source": [
    "## Preparing the data"
   ]
  },
  {
   "cell_type": "code",
   "execution_count": 13,
   "metadata": {},
   "outputs": [],
   "source": [
    "img_size = 150\n",
    "labels = ['PNEUMONIA', 'NORMAL']\n",
    "\n",
    "x_train = []\n",
    "y_train = []\n",
    "\n",
    "x_val = []\n",
    "y_val = []\n",
    "\n",
    "x_test = []\n",
    "y_test = []\n",
    "\n",
    "for feature, label in train:\n",
    "    x_train.append(feature)\n",
    "    y_train.append(label)\n",
    "\n",
    "for feature, label in test:\n",
    "    x_test.append(feature)\n",
    "    y_test.append(label)\n",
    "\n",
    "for feature, label in val:\n",
    "    x_val.append(feature)\n",
    "    y_val.append(label)\n",
    "\n",
    "# Make them into arrays\n",
    "x_train = np.array(x_train)\n",
    "x_test = np.array(x_test)\n",
    "y_train = np.array(y_train)\n",
    "y_test = np.array(y_test)\n",
    "x_val = np.array(x_val)\n",
    "y_val = np.array(y_val)\n",
    "\n",
    "x_train = x_train.reshape(-1, img_size, img_size, 1)\n",
    "x_test = x_test.reshape(-1, img_size, img_size, 1)\n",
    "x_val = x_val.reshape(-1, img_size, img_size, 1)\n",
    "\n",
    "X_imgs = np.concatenate((x_test, x_train, x_val))"
   ]
  },
  {
   "cell_type": "markdown",
   "metadata": {},
   "source": [
    "### Making the GradCam Algorithm"
   ]
  },
  {
   "cell_type": "code",
   "execution_count": 14,
   "metadata": {},
   "outputs": [],
   "source": [
    "# Prepare the model for the gradient cam\n",
    "def make_model_gradcam_ready(sequential_model, input_shape):\n",
    "    inp = Input(shape=input_shape)\n",
    "    x = inp\n",
    "    for layer in sequential_model.layers:\n",
    "        config = layer.get_config()\n",
    "        new_layer = layer.__class__.from_config(config)\n",
    "        x = new_layer(x)\n",
    "    new_model = Model(inputs=inp, outputs=x)\n",
    "    new_model.set_weights(sequential_model.get_weights())\n",
    "    return new_model\n",
    "\n",
    "# Loading the model\n",
    "improved_model = keras.saving.load_model(\"Models/92_Percent.keras\")\n",
    "Ours = make_model_gradcam_ready(improved_model, input_shape=(150, 150, 1))\n",
    "\n",
    "# Getting the last convolutional layer of the model. \n",
    "last_conv_layer = [layer for layer in Ours.layers if isinstance(layer, Conv2D)][-1]\n"
   ]
  },
  {
   "cell_type": "code",
   "execution_count": 15,
   "metadata": {},
   "outputs": [],
   "source": [
    "def make_gradcam_heatmap(img_array, model, last_conv_layer, pred_index=None):\n",
    "    # Ensure model is called so it has a defined input\n",
    "    _ = model.predict(img_array, verbose=0)\n",
    "\n",
    "    grad_model = Model(\n",
    "        inputs=model.input,\n",
    "        outputs=[last_conv_layer.output, model.output]\n",
    "    )\n",
    "\n",
    "    with tf.GradientTape() as tape:\n",
    "        conv_outputs, predictions = grad_model(img_array)\n",
    "        if pred_index is None:\n",
    "            pred_index = tf.argmax(predictions[0])\n",
    "        class_output = predictions[:, pred_index]\n",
    "\n",
    "    # Get the gradients of the class output with respect to the conv output\n",
    "    grads = tape.gradient(class_output, conv_outputs)\n",
    "\n",
    "    # Take the mean of the gradients over the width and height\n",
    "    pooled_grads = tf.reduce_mean(grads, axis=(0, 1, 2))\n",
    "\n",
    "    # Multiply each channel in the feature map by its corresponding gradient\n",
    "    conv_outputs = conv_outputs[0]\n",
    "    heatmap = conv_outputs @ pooled_grads[..., tf.newaxis]\n",
    "    heatmap = tf.squeeze(heatmap)\n",
    "\n",
    "    # Normalize the heatmap\n",
    "    heatmap = tf.maximum(heatmap, 0) / tf.math.reduce_max(heatmap + 1e-8)  # add epsilon to avoid divide-by-zero\n",
    "    return heatmap.numpy()"
   ]
  },
  {
   "cell_type": "code",
   "execution_count": 16,
   "metadata": {},
   "outputs": [],
   "source": [
    "img_input = np.expand_dims(X_imgs[0], axis=0).astype(\"float32\")\n",
    "heatmap = make_gradcam_heatmap(img_input, Ours, last_conv_layer)"
   ]
  },
  {
   "cell_type": "code",
   "execution_count": 17,
   "metadata": {},
   "outputs": [],
   "source": [
    "\n",
    "def overlay_gradcam(img, heatmap, alpha=0.4):\n",
    "    heatmap_resized = cv2.resize(heatmap, (img.shape[1], img.shape[0]))\n",
    "    heatmap_colored = cv2.applyColorMap(np.uint8(255 * heatmap_resized), cv2.COLORMAP_JET)\n",
    "    img_rgb = cv2.cvtColor((img * 255).astype(\"uint8\"), cv2.COLOR_GRAY2BGR)\n",
    "    return cv2.addWeighted(img_rgb, 1 - alpha, heatmap_colored, alpha, 0)\n",
    "\n",
    "def show_gradcam_grid(images, model, last_conv_layer, labels=None, start_index =0, n=6):\n",
    "    \n",
    "    end_index = min(start_index + n, len(images))\n",
    "    plt.figure(figsize=(15, 3 * ((end_index - start_index + 2) // 3)))\n",
    "\n",
    "    for i in range(n):\n",
    "        img = images[i]\n",
    "        img_input = np.expand_dims(img, axis=0).astype(\"float32\")\n",
    "        heatmap = make_gradcam_heatmap(img_input, model, last_conv_layer)\n",
    "        overlay = overlay_gradcam(img, heatmap)\n",
    "\n",
    "        plt.subplot(n // 3 + (n % 3 > 0), 3, i + 1)\n",
    "        plt.imshow(overlay)\n",
    "        plt.axis(\"off\")\n",
    "        title = f\"Image {i}\"\n",
    "        if labels is not None:\n",
    "            title += f\" | Label: {labels[i]}\"\n",
    "        plt.title(title)\n",
    "\n",
    "    plt.tight_layout()\n",
    "    plt.show()"
   ]
  },
  {
   "cell_type": "code",
   "execution_count": 18,
   "metadata": {},
   "outputs": [
    {
     "ename": "NameError",
     "evalue": "name 'pred_classes' is not defined",
     "output_type": "error",
     "traceback": [
      "\u001b[0;31m---------------------------------------------------------------------------\u001b[0m",
      "\u001b[0;31mNameError\u001b[0m                                 Traceback (most recent call last)",
      "Cell \u001b[0;32mIn[18], line 2\u001b[0m\n\u001b[1;32m      1\u001b[0m \u001b[38;5;66;03m# Show first 9 images with Grad-CAM overlays\u001b[39;00m\n\u001b[0;32m----> 2\u001b[0m show_gradcam_grid(X_imgs, Ours, last_conv_layer, labels\u001b[38;5;241m=\u001b[39m\u001b[43mpred_classes\u001b[49m, start_index\u001b[38;5;241m=\u001b[39m\u001b[38;5;241m0\u001b[39m, n\u001b[38;5;241m=\u001b[39m\u001b[38;5;241m9\u001b[39m)\n\u001b[1;32m      4\u001b[0m \u001b[38;5;66;03m# Next 9\u001b[39;00m\n\u001b[1;32m      5\u001b[0m show_gradcam_grid(X_imgs, Ours, last_conv_layer, labels\u001b[38;5;241m=\u001b[39mpred_classes, start_index\u001b[38;5;241m=\u001b[39m\u001b[38;5;241m9\u001b[39m, n\u001b[38;5;241m=\u001b[39m\u001b[38;5;241m9\u001b[39m)\n",
      "\u001b[0;31mNameError\u001b[0m: name 'pred_classes' is not defined"
     ]
    }
   ],
   "source": [
    "# Show first 9 images with Grad-CAM overlays\n",
    "show_gradcam_grid(X_imgs, Ours, last_conv_layer, labels=pred_classes, start_index=0, n=9)\n",
    "\n",
    "# Next 9\n",
    "show_gradcam_grid(X_imgs, Ours, last_conv_layer, labels=pred_classes, start_index=9, n=9)"
   ]
  },
  {
   "cell_type": "markdown",
   "metadata": {},
   "source": [
    "Use Grad-CAM (Gradient-weighted Class Activation Mapping) to visualize which parts\n",
    "of the input images contribute most to the model’s predictions\n",
    "o Choose 5-10 misclassified samples and use Grad-CAM to inspect which regions the\n",
    "model is focusing on.\n",
    "o Interpret the results: Ar"
   ]
  },
  {
   "cell_type": "code",
   "execution_count": null,
   "metadata": {},
   "outputs": [
    {
     "ename": "NameError",
     "evalue": "name 'predictions' is not defined",
     "output_type": "error",
     "traceback": [
      "\u001b[0;31m---------------------------------------------------------------------------\u001b[0m",
      "\u001b[0;31mNameError\u001b[0m                                 Traceback (most recent call last)",
      "Cell \u001b[0;32mIn[10], line 1\u001b[0m\n\u001b[0;32m----> 1\u001b[0m correct \u001b[38;5;241m=\u001b[39m np\u001b[38;5;241m.\u001b[39mnonzero(\u001b[43mpredictions\u001b[49m \u001b[38;5;241m==\u001b[39m y_test)[\u001b[38;5;241m0\u001b[39m]\n\u001b[1;32m      2\u001b[0m incorrect \u001b[38;5;241m=\u001b[39m np\u001b[38;5;241m.\u001b[39mnonzero(predictions \u001b[38;5;241m!=\u001b[39m y_test)[\u001b[38;5;241m0\u001b[39m]\n",
      "\u001b[0;31mNameError\u001b[0m: name 'predictions' is not defined"
     ]
    }
   ],
   "source": [
    "correct = np.nonzero(predictions == y_test)[0]\n",
    "incorrect = np.nonzero(predictions != y_test)[0]"
   ]
  },
  {
   "cell_type": "code",
   "execution_count": null,
   "metadata": {},
   "outputs": [],
   "source": [
    "i = 0\n",
    "for c in incorrect[:6]:\n",
    "    plt.subplot(3,2,i+1)\n",
    "    plt.xticks([])\n",
    "    plt.yticks([])\n",
    "    plt.imshow(x_test[c].reshape(150,150), cmap=\"gray\", interpolation='none')\n",
    "    plt.title(\"Predicted Class {},Actual Class {}\".format(predictions[c], y_test[c]))\n",
    "    # plt.tight_layout()\n",
    "    i += 1"
   ]
  }
 ],
 "metadata": {
  "kernelspec": {
   "display_name": "DS_Ass2",
   "language": "python",
   "name": "python3"
  },
  "language_info": {
   "codemirror_mode": {
    "name": "ipython",
    "version": 3
   },
   "file_extension": ".py",
   "mimetype": "text/x-python",
   "name": "python",
   "nbconvert_exporter": "python",
   "pygments_lexer": "ipython3",
   "version": "3.10.13"
  }
 },
 "nbformat": 4,
 "nbformat_minor": 2
}
